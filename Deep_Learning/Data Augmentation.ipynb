{
  "cells": [
    {
      "metadata": {
        "_uuid": "f41aa6d52e34696cc66078e40493abe3a56620fa"
      },
      "cell_type": "markdown",
      "source": "**[Deep Learning Course Home Page](https://www.kaggle.com/learn/deep-learning)**\n\n---\n"
    },
    {
      "metadata": {
        "_uuid": "dd612d2e42defc2036ab87ff754bb34c0a8d58cb"
      },
      "cell_type": "markdown",
      "source": "# Intro\n\nAt the end of this lesson, you will be able to use data augmentation. This trick that makes it seem like you have far more data than you actually have, resulting in even better models..\n\n# Lesson\n"
    },
    {
      "metadata": {
        "_kg_hide-input": true,
        "collapsed": true,
        "_uuid": "bedfcec00da0b854bad709d240392befa35f2acc",
        "trusted": false
      },
      "cell_type": "code",
      "source": "\"\"\"\nThe augmentation procedures are not always implemented, simply allowed by our commands.\nWide and height shift allows us to shift the image.\nNote that for certain applications this may be not good, like if youre flipping a sign and it looks similiar to another label\n\"\"\"",
      "execution_count": null,
      "outputs": []
    },
    {
      "metadata": {
        "_uuid": "0074225b528450f74e791905f99e94ad3e851290"
      },
      "cell_type": "markdown",
      "source": "# Sample Code\n\nWe have some model set-up code which you've seen before.  It's not our focus for the moment, so it is hidden (but optionally visible by clicking the \"code\" button below.)"
    },
    {
      "metadata": {
        "_kg_hide-input": true,
        "_kg_hide-output": true,
        "collapsed": true,
        "_uuid": "7055adcfed6cc22147ae27cd6fe7d5327f49616b",
        "trusted": false
      },
      "cell_type": "code",
      "source": "from tensorflow.python.keras.applications import ResNet50\nfrom tensorflow.python.keras.models import Sequential\nfrom tensorflow.python.keras.layers import Dense, Flatten, GlobalAveragePooling2D\n\nnum_classes = 2\nresnet_weights_path = '../input/resnet50/resnet50_weights_tf_dim_ordering_tf_kernels_notop.h5'\n\nmy_new_model = Sequential()\nmy_new_model.add(ResNet50(include_top=False, pooling='avg', weights=resnet_weights_path))\nmy_new_model.add(Dense(num_classes, activation='softmax'))\n\n# Say not to train first layer (ResNet) model. It is already trained\nmy_new_model.layers[0].trainable = False\n\nmy_new_model.compile(optimizer='sgd', loss='categorical_crossentropy', metrics=['accuracy'])",
      "execution_count": null,
      "outputs": []
    },
    {
      "metadata": {
        "_uuid": "f7b1d6d76dcae3a4cf8e1ecd8ecf0ce3c84440e6"
      },
      "cell_type": "markdown",
      "source": "### Fitting a Model With Data Augmentation"
    },
    {
      "metadata": {
        "collapsed": true,
        "_uuid": "df64b5d4ca650c0bac5177bccf5e05f681703b20",
        "trusted": false
      },
      "cell_type": "code",
      "source": "from tensorflow.python.keras.applications.resnet50 import preprocess_input\nfrom tensorflow.python.keras.preprocessing.image import ImageDataGenerator\n\nimage_size = 224\n\ndata_generator_with_aug = ImageDataGenerator(preprocessing_function=preprocess_input,\n                                   horizontal_flip=True,\n                                   width_shift_range = 0.2,\n                                   height_shift_range = 0.2)\n\ntrain_generator = data_generator_with_aug.flow_from_directory(\n        '../input/urban-and-rural-photos/train',\n        target_size=(image_size, image_size),\n        batch_size=24,\n        class_mode='categorical')\n\ndata_generator_no_aug = ImageDataGenerator(preprocessing_function=preprocess_input)\nvalidation_generator = data_generator_no_aug.flow_from_directory(\n        '../input/urban-and-rural-photos/val',\n        target_size=(image_size, image_size),\n        class_mode='categorical')\n\nmy_new_model.fit_generator(\n        train_generator,\n        steps_per_epoch=3,\n        epochs=2,\n        validation_data=validation_generator,\n        validation_steps=1)",
      "execution_count": null,
      "outputs": []
    },
    {
      "metadata": {
        "_uuid": "2fcf168e4210ecbf397a846c02b236fc5e3e944f"
      },
      "cell_type": "markdown",
      "source": "# Exercise\nMove on to **[apply data augmentation](https://www.kaggle.com/kernels/fork/536195)** yourself."
    },
    {
      "metadata": {
        "_uuid": "480ef58fb5a8a6c4b579e58b4d81c5e2a151253f"
      },
      "cell_type": "markdown",
      "source": "---\n**[Deep Learning Course Home Page](https://www.kaggle.com/learn/deep-learning)**\n\n"
    }
  ],
  "metadata": {
    "kernelspec": {
      "display_name": "Python 3",
      "language": "python",
      "name": "python3"
    },
    "language_info": {
      "name": "python",
      "version": "3.6.6",
      "mimetype": "text/x-python",
      "codemirror_mode": {
        "name": "ipython",
        "version": 3
      },
      "pygments_lexer": "ipython3",
      "nbconvert_exporter": "python",
      "file_extension": ".py"
    }
  },
  "nbformat": 4,
  "nbformat_minor": 1
}